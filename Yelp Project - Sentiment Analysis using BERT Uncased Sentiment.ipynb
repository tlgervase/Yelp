{
 "cells": [
  {
   "cell_type": "code",
   "execution_count": 18,
   "id": "14dfdab3",
   "metadata": {},
   "outputs": [],
   "source": [
    "import pandas as pd\n",
    "import numpy as np\n",
    "import torch\n",
    "import transformers\n",
    "from transformers import AutoTokenizer, AutoModelForSequenceClassification\n",
    "from sklearn.model_selection import train_test_split"
   ]
  },
  {
   "cell_type": "code",
   "execution_count": 58,
   "id": "361d6b8f",
   "metadata": {
    "scrolled": true
   },
   "outputs": [
    {
     "data": {
      "text/plain": [
       "<bound method DataFrame.info of                           id         rating  \\\n",
       "0     kbwKxRdvWTu_Hy5sDN-JWQ  5 star rating   \n",
       "1     kbwKxRdvWTu_Hy5sDN-JWQ  2 star rating   \n",
       "2     kbwKxRdvWTu_Hy5sDN-JWQ  5 star rating   \n",
       "3     kbwKxRdvWTu_Hy5sDN-JWQ  3 star rating   \n",
       "4     kbwKxRdvWTu_Hy5sDN-JWQ  5 star rating   \n",
       "...                      ...            ...   \n",
       "4325  XRE8PgaxgJm5qiIqD_7eBQ  4 star rating   \n",
       "4326  XRE8PgaxgJm5qiIqD_7eBQ  5 star rating   \n",
       "4327  XRE8PgaxgJm5qiIqD_7eBQ  4 star rating   \n",
       "4328  XRE8PgaxgJm5qiIqD_7eBQ  5 star rating   \n",
       "4329  XRE8PgaxgJm5qiIqD_7eBQ  5 star rating   \n",
       "\n",
       "                                       text from review  \n",
       "0     Came here yesterday with my wife. Food is amaz...  \n",
       "1     This review is from when I tried the food last...  \n",
       "2     One of my favorite spots for food in Westwood....  \n",
       "3     I knew that since this place had self-order ki...  \n",
       "4     Delicious and Fast Dim Sum! It was easy to ord...  \n",
       "...                                                 ...  \n",
       "4325  I love Kagawa Ramen and wanted to try this pla...  \n",
       "4326  What. A. Sweet. Spot! From the \"kids\" that bro...  \n",
       "4327  Fresh and great quality.  We found this joint ...  \n",
       "4328  I went to try because I thought it would be fu...  \n",
       "4329  Easily one of the best sushi spots in Phoenix!...  \n",
       "\n",
       "[4330 rows x 3 columns]>"
      ]
     },
     "execution_count": 58,
     "metadata": {},
     "output_type": "execute_result"
    }
   ],
   "source": [
    "# load data\n",
    "\n",
    "los_angeles_df = pd.read_csv('all_reviews_df.csv')\n",
    "other_cities_df = pd.read_csv('other_cities_reviews.csv')\n",
    "other_cities_df.rename(columns={\"review_text\": \"text from review\"}, inplace = True)\n",
    "\n",
    "df = pd.concat([los_angeles_df, other_cities_df], ignore_index=True)\n",
    "df.info"
   ]
  },
  {
   "cell_type": "code",
   "execution_count": 7,
   "id": "0586268a",
   "metadata": {},
   "outputs": [
    {
     "data": {
      "application/vnd.jupyter.widget-view+json": {
       "model_id": "7e3ff4d9f3a8461d9165e2b75eaeb0b1",
       "version_major": 2,
       "version_minor": 0
      },
      "text/plain": [
       "pytorch_model.bin:   0%|          | 0.00/669M [00:00<?, ?B/s]"
      ]
     },
     "metadata": {},
     "output_type": "display_data"
    }
   ],
   "source": [
    "# load pretrained tokenizer & model\n",
    "\n",
    "tokenizer = AutoTokenizer.from_pretrained('nlptown/bert-base-multilingual-uncased-sentiment')\n",
    "\n",
    "model = AutoModelForSequenceClassification.from_pretrained('nlptown/bert-base-multilingual-uncased-sentiment')"
   ]
  },
  {
   "cell_type": "code",
   "execution_count": 19,
   "id": "bb70a048",
   "metadata": {},
   "outputs": [
    {
     "data": {
      "text/plain": [
       "4"
      ]
     },
     "execution_count": 19,
     "metadata": {},
     "output_type": "execute_result"
    }
   ],
   "source": [
    "# test tokenizer on first review\n",
    "\n",
    "tester = df.loc[0, 'text from review']\n",
    "\n",
    "tester_token = tokenizer.encode(tester, return_tensors = 'pt')\n",
    "tester_result = model(tester_token)\n",
    "\n",
    "int(torch.argmax(tester_result.logits))+1"
   ]
  },
  {
   "cell_type": "code",
   "execution_count": 22,
   "id": "2fe37dac",
   "metadata": {},
   "outputs": [],
   "source": [
    "# define a function to calculate the sentiment score\n",
    "\n",
    "def calculate_sentiment(review):\n",
    "    tokens = tokenizer.encode(review, return_tensors = 'pt')\n",
    "    result = model(tokens)\n",
    "\n",
    "    return int(torch.argmax(result.logits))+1"
   ]
  },
  {
   "cell_type": "code",
   "execution_count": 60,
   "id": "227cbfcb",
   "metadata": {},
   "outputs": [],
   "source": [
    "# truncate reviews greater than 52 characters (max this model can handle)\n",
    "\n",
    "for index, row in df.iterrows():\n",
    "    if len(df.loc[index, 'text from review']) > 512:\n",
    "        df.loc[index, 'text from review'] = df.loc[index, 'text from review'][:512]"
   ]
  },
  {
   "cell_type": "code",
   "execution_count": 61,
   "id": "1e62cfa6",
   "metadata": {},
   "outputs": [],
   "source": [
    "# calculate score for each review & append to df\n",
    "\n",
    "\n",
    "df['sentiment score'] = df['text from review'].apply(calculate_sentiment)\n"
   ]
  },
  {
   "cell_type": "code",
   "execution_count": 84,
   "id": "1e887a3e",
   "metadata": {},
   "outputs": [
    {
     "name": "stdout",
     "output_type": "stream",
     "text": [
      "                       id  rating  \\\n",
      "0  kbwKxRdvWTu_Hy5sDN-JWQ       5   \n",
      "1  kbwKxRdvWTu_Hy5sDN-JWQ       2   \n",
      "2  kbwKxRdvWTu_Hy5sDN-JWQ       5   \n",
      "3  kbwKxRdvWTu_Hy5sDN-JWQ       3   \n",
      "4  kbwKxRdvWTu_Hy5sDN-JWQ       5   \n",
      "\n",
      "                                    text from review  sentiment score  \n",
      "0  Came here yesterday with my wife. Food is amaz...                4  \n",
      "1  This review is from when I tried the food last...                3  \n",
      "2  One of my favorite spots for food in Westwood....                5  \n",
      "3  I knew that since this place had self-order ki...                3  \n",
      "4  Delicious and Fast Dim Sum! It was easy to ord...                5  \n"
     ]
    }
   ],
   "source": [
    "print(df.head())"
   ]
  },
  {
   "cell_type": "code",
   "execution_count": 87,
   "id": "0f2fb403",
   "metadata": {},
   "outputs": [
    {
     "name": "stdout",
     "output_type": "stream",
     "text": [
      "4.17459584295612\n"
     ]
    }
   ],
   "source": [
    "# find average sentiment score across all restaurants\n",
    "\n",
    "print(np.mean(df['sentiment score'], axis=0))"
   ]
  },
  {
   "cell_type": "code",
   "execution_count": 83,
   "id": "dafd9070",
   "metadata": {},
   "outputs": [
    {
     "name": "stdout",
     "output_type": "stream",
     "text": [
      "4.403695150115474\n"
     ]
    }
   ],
   "source": [
    "# find average rating (from yelp) across all restaurants\n",
    "\n",
    "print(np.mean(df['rating'], axis=0))"
   ]
  },
  {
   "cell_type": "code",
   "execution_count": 85,
   "id": "94ddf6a0",
   "metadata": {},
   "outputs": [],
   "source": [
    "# save new df\n",
    "\n",
    "df.to_csv('df_with_sentiment.csv', index = False)"
   ]
  }
 ],
 "metadata": {
  "kernelspec": {
   "display_name": "Python 3 (ipykernel)",
   "language": "python",
   "name": "python3"
  },
  "language_info": {
   "codemirror_mode": {
    "name": "ipython",
    "version": 3
   },
   "file_extension": ".py",
   "mimetype": "text/x-python",
   "name": "python",
   "nbconvert_exporter": "python",
   "pygments_lexer": "ipython3",
   "version": "3.11.4"
  }
 },
 "nbformat": 4,
 "nbformat_minor": 5
}
