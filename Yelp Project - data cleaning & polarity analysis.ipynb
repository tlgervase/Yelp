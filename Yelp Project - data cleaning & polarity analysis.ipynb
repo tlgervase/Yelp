{
 "cells": [
  {
   "cell_type": "code",
   "execution_count": 1,
   "id": "a0fcdb3a",
   "metadata": {},
   "outputs": [
    {
     "name": "stderr",
     "output_type": "stream",
     "text": [
      "/Users/tessagervase/anaconda3/lib/python3.11/site-packages/pandas/core/arrays/masked.py:60: UserWarning: Pandas requires version '1.3.6' or newer of 'bottleneck' (version '1.3.5' currently installed).\n",
      "  from pandas.core import (\n",
      "[nltk_data] Downloading package stopwords to\n",
      "[nltk_data]     /Users/tessagervase/nltk_data...\n",
      "[nltk_data]   Package stopwords is already up-to-date!\n",
      "[nltk_data] Downloading package punkt to\n",
      "[nltk_data]     /Users/tessagervase/nltk_data...\n",
      "[nltk_data]   Package punkt is already up-to-date!\n"
     ]
    }
   ],
   "source": [
    "import requests\n",
    "from bs4 import BeautifulSoup\n",
    "import pandas as pd\n",
    "import matplotlib.pyplot as plt\n",
    "from nltk.corpus import stopwords\n",
    "from nltk.tokenize import word_tokenize\n",
    "from bs4 import BeautifulSoup\n",
    "from textblob import TextBlob\n",
    "from wordcloud import WordCloud\n",
    "from string import digits\n",
    "import requests\n",
    "import pandas as pd\n",
    "import nltk\n",
    "import string\n",
    "import seaborn as sns\n",
    "import re\n",
    "nltk.download(\"stopwords\")\n",
    "nltk.download('punkt')\n",
    "stop_words = set(stopwords.words('english'))"
   ]
  },
  {
   "cell_type": "code",
   "execution_count": 61,
   "id": "1f96874c",
   "metadata": {},
   "outputs": [
    {
     "data": {
      "text/html": [
       "<div>\n",
       "<style scoped>\n",
       "    .dataframe tbody tr th:only-of-type {\n",
       "        vertical-align: middle;\n",
       "    }\n",
       "\n",
       "    .dataframe tbody tr th {\n",
       "        vertical-align: top;\n",
       "    }\n",
       "\n",
       "    .dataframe thead th {\n",
       "        text-align: right;\n",
       "    }\n",
       "</style>\n",
       "<table border=\"1\" class=\"dataframe\">\n",
       "  <thead>\n",
       "    <tr style=\"text-align: right;\">\n",
       "      <th></th>\n",
       "      <th>id</th>\n",
       "      <th>rating</th>\n",
       "      <th>text from review</th>\n",
       "    </tr>\n",
       "  </thead>\n",
       "  <tbody>\n",
       "    <tr>\n",
       "      <th>0</th>\n",
       "      <td>kbwKxRdvWTu_Hy5sDN-JWQ</td>\n",
       "      <td>5 star rating</td>\n",
       "      <td>Came here yesterday with my wife. Food is amaz...</td>\n",
       "    </tr>\n",
       "    <tr>\n",
       "      <th>1</th>\n",
       "      <td>kbwKxRdvWTu_Hy5sDN-JWQ</td>\n",
       "      <td>2 star rating</td>\n",
       "      <td>This review is from when I tried the food last...</td>\n",
       "    </tr>\n",
       "    <tr>\n",
       "      <th>2</th>\n",
       "      <td>kbwKxRdvWTu_Hy5sDN-JWQ</td>\n",
       "      <td>5 star rating</td>\n",
       "      <td>One of my favorite spots for food in Westwood....</td>\n",
       "    </tr>\n",
       "    <tr>\n",
       "      <th>3</th>\n",
       "      <td>kbwKxRdvWTu_Hy5sDN-JWQ</td>\n",
       "      <td>3 star rating</td>\n",
       "      <td>I knew that since this place had self-order ki...</td>\n",
       "    </tr>\n",
       "    <tr>\n",
       "      <th>4</th>\n",
       "      <td>kbwKxRdvWTu_Hy5sDN-JWQ</td>\n",
       "      <td>5 star rating</td>\n",
       "      <td>Delicious and Fast Dim Sum! It was easy to ord...</td>\n",
       "    </tr>\n",
       "  </tbody>\n",
       "</table>\n",
       "</div>"
      ],
      "text/plain": [
       "                       id         rating  \\\n",
       "0  kbwKxRdvWTu_Hy5sDN-JWQ  5 star rating   \n",
       "1  kbwKxRdvWTu_Hy5sDN-JWQ  2 star rating   \n",
       "2  kbwKxRdvWTu_Hy5sDN-JWQ  5 star rating   \n",
       "3  kbwKxRdvWTu_Hy5sDN-JWQ  3 star rating   \n",
       "4  kbwKxRdvWTu_Hy5sDN-JWQ  5 star rating   \n",
       "\n",
       "                                    text from review  \n",
       "0  Came here yesterday with my wife. Food is amaz...  \n",
       "1  This review is from when I tried the food last...  \n",
       "2  One of my favorite spots for food in Westwood....  \n",
       "3  I knew that since this place had self-order ki...  \n",
       "4  Delicious and Fast Dim Sum! It was easy to ord...  "
      ]
     },
     "execution_count": 61,
     "metadata": {},
     "output_type": "execute_result"
    }
   ],
   "source": [
    "# load data\n",
    "\n",
    "los_angeles_df = pd.read_csv('all_reviews_df.csv')\n",
    "other_cities_df = pd.read_csv('other_cities_reviews.csv')\n",
    "other_cities_df.rename(columns={\"review_text\": \"text from review\"}, inplace = True)\n",
    "\n",
    "df = pd.concat([los_angeles_df, other_cities_df], ignore_index=True)\n",
    "df.head()"
   ]
  },
  {
   "cell_type": "code",
   "execution_count": 68,
   "id": "cbbffae8",
   "metadata": {},
   "outputs": [
    {
     "data": {
      "text/html": [
       "<div>\n",
       "<style scoped>\n",
       "    .dataframe tbody tr th:only-of-type {\n",
       "        vertical-align: middle;\n",
       "    }\n",
       "\n",
       "    .dataframe tbody tr th {\n",
       "        vertical-align: top;\n",
       "    }\n",
       "\n",
       "    .dataframe thead th {\n",
       "        text-align: right;\n",
       "    }\n",
       "</style>\n",
       "<table border=\"1\" class=\"dataframe\">\n",
       "  <thead>\n",
       "    <tr style=\"text-align: right;\">\n",
       "      <th></th>\n",
       "      <th>id</th>\n",
       "      <th>rating</th>\n",
       "      <th>text from review</th>\n",
       "      <th>polarity</th>\n",
       "      <th>tag</th>\n",
       "    </tr>\n",
       "  </thead>\n",
       "  <tbody>\n",
       "    <tr>\n",
       "      <th>0</th>\n",
       "      <td>kbwKxRdvWTu_Hy5sDN-JWQ</td>\n",
       "      <td>5</td>\n",
       "      <td>Came yesterday wife Food amazing staff friendl...</td>\n",
       "      <td>0.502778</td>\n",
       "      <td>Positive</td>\n",
       "    </tr>\n",
       "    <tr>\n",
       "      <th>1</th>\n",
       "      <td>kbwKxRdvWTu_Hy5sDN-JWQ</td>\n",
       "      <td>2</td>\n",
       "      <td>This review I tried food last year hopefully i...</td>\n",
       "      <td>0.150877</td>\n",
       "      <td>Positive</td>\n",
       "    </tr>\n",
       "    <tr>\n",
       "      <th>2</th>\n",
       "      <td>kbwKxRdvWTu_Hy5sDN-JWQ</td>\n",
       "      <td>5</td>\n",
       "      <td>One favorite spots food Westwood This location...</td>\n",
       "      <td>0.169494</td>\n",
       "      <td>Positive</td>\n",
       "    </tr>\n",
       "    <tr>\n",
       "      <th>3</th>\n",
       "      <td>kbwKxRdvWTu_Hy5sDN-JWQ</td>\n",
       "      <td>3</td>\n",
       "      <td>I knew since place selforder kiosks pretty cas...</td>\n",
       "      <td>0.095644</td>\n",
       "      <td>Positive</td>\n",
       "    </tr>\n",
       "    <tr>\n",
       "      <th>4</th>\n",
       "      <td>kbwKxRdvWTu_Hy5sDN-JWQ</td>\n",
       "      <td>5</td>\n",
       "      <td>Delicious Fast Dim Sum It easy order kiosk Its...</td>\n",
       "      <td>0.357875</td>\n",
       "      <td>Positive</td>\n",
       "    </tr>\n",
       "  </tbody>\n",
       "</table>\n",
       "</div>"
      ],
      "text/plain": [
       "                       id rating  \\\n",
       "0  kbwKxRdvWTu_Hy5sDN-JWQ      5   \n",
       "1  kbwKxRdvWTu_Hy5sDN-JWQ      2   \n",
       "2  kbwKxRdvWTu_Hy5sDN-JWQ      5   \n",
       "3  kbwKxRdvWTu_Hy5sDN-JWQ      3   \n",
       "4  kbwKxRdvWTu_Hy5sDN-JWQ      5   \n",
       "\n",
       "                                    text from review  polarity       tag  \n",
       "0  Came yesterday wife Food amazing staff friendl...  0.502778  Positive  \n",
       "1  This review I tried food last year hopefully i...  0.150877  Positive  \n",
       "2  One favorite spots food Westwood This location...  0.169494  Positive  \n",
       "3  I knew since place selforder kiosks pretty cas...  0.095644  Positive  \n",
       "4  Delicious Fast Dim Sum It easy order kiosk Its...  0.357875  Positive  "
      ]
     },
     "execution_count": 68,
     "metadata": {},
     "output_type": "execute_result"
    }
   ],
   "source": [
    "# replace rating with just the integer rating\n",
    "\n",
    "for index, row in df.iterrows():\n",
    "    df.loc[index, 'rating'] = df.loc[index, 'rating'][0]\n",
    "\n",
    "df.head()"
   ]
  },
  {
   "cell_type": "code",
   "execution_count": 69,
   "id": "18d8d52a",
   "metadata": {
    "scrolled": true
   },
   "outputs": [
    {
     "name": "stdout",
     "output_type": "stream",
     "text": [
      "0       Came yesterday wife Food amazing staff friendl...\n",
      "1       This review I tried food last year hopefully i...\n",
      "2       One favorite spots food Westwood This location...\n",
      "3       I knew since place selforder kiosks pretty cas...\n",
      "4       Delicious Fast Dim Sum It easy order kiosk Its...\n",
      "                              ...                        \n",
      "4325    I love Kagawa Ramen wanted try place They atta...\n",
      "4326    What A Sweet Spot From kids brought us Kagawa ...\n",
      "4327    Fresh great quality We found joint Yelp though...\n",
      "4328    I went try I thought would fun unique I blown ...\n",
      "4329    Easily one best sushi spots Phoenix The staff ...\n",
      "Name: text from review, Length: 4330, dtype: object\n"
     ]
    },
    {
     "name": "stderr",
     "output_type": "stream",
     "text": [
      "/var/folders/69/8k9ds_px2833z9tj2lp1n6y80000gn/T/ipykernel_2922/109727898.py:3: FutureWarning: The default value of regex will change from True to False in a future version.\n",
      "  df['text from review'] = df['text from review'].str.replace('[^\\w\\s]','')\n"
     ]
    }
   ],
   "source": [
    "# remove punctuation\n",
    "\n",
    "df['text from review'] = df['text from review'].str.replace('[^\\w\\s]','')\n",
    "print(df['text from review'])"
   ]
  },
  {
   "cell_type": "code",
   "execution_count": 70,
   "id": "c410eef3",
   "metadata": {},
   "outputs": [],
   "source": [
    "# tokenization\n",
    "\n",
    "df['text from review'] = df.apply(lambda row: nltk.word_tokenize(row['text from review']), axis=1)"
   ]
  },
  {
   "cell_type": "code",
   "execution_count": 71,
   "id": "dbbcaca9",
   "metadata": {},
   "outputs": [
    {
     "name": "stdout",
     "output_type": "stream",
     "text": [
      "                        id rating  \\\n",
      "0   kbwKxRdvWTu_Hy5sDN-JWQ      5   \n",
      "1   kbwKxRdvWTu_Hy5sDN-JWQ      2   \n",
      "2   kbwKxRdvWTu_Hy5sDN-JWQ      5   \n",
      "3   kbwKxRdvWTu_Hy5sDN-JWQ      3   \n",
      "4   kbwKxRdvWTu_Hy5sDN-JWQ      5   \n",
      "5   kbwKxRdvWTu_Hy5sDN-JWQ      4   \n",
      "6   kbwKxRdvWTu_Hy5sDN-JWQ      5   \n",
      "7   kbwKxRdvWTu_Hy5sDN-JWQ      3   \n",
      "8   kbwKxRdvWTu_Hy5sDN-JWQ      4   \n",
      "9   kbwKxRdvWTu_Hy5sDN-JWQ      5   \n",
      "10  MGZcRMKvabDOK3xdYKxAYQ      5   \n",
      "11  MGZcRMKvabDOK3xdYKxAYQ      4   \n",
      "12  MGZcRMKvabDOK3xdYKxAYQ      4   \n",
      "13  MGZcRMKvabDOK3xdYKxAYQ      4   \n",
      "14  MGZcRMKvabDOK3xdYKxAYQ      4   \n",
      "15  MGZcRMKvabDOK3xdYKxAYQ      1   \n",
      "16  MGZcRMKvabDOK3xdYKxAYQ      3   \n",
      "17  MGZcRMKvabDOK3xdYKxAYQ      5   \n",
      "18  MGZcRMKvabDOK3xdYKxAYQ      4   \n",
      "19  MGZcRMKvabDOK3xdYKxAYQ      5   \n",
      "\n",
      "                                     text from review  polarity       tag  \n",
      "0   Came yesterday wife Food amazing staff friendl...  0.502778  Positive  \n",
      "1   This review I tried food last year hopefully i...  0.150877  Positive  \n",
      "2   One favorite spots food Westwood This location...  0.169494  Positive  \n",
      "3   I knew since place selforder kiosks pretty cas...  0.095644  Positive  \n",
      "4   Delicious Fast Dim Sum It easy order kiosk Its...  0.357875  Positive  \n",
      "5   The recent opening ixlb Dimsum Eats helping im...  0.176420  Positive  \n",
      "6   Really tasty dim sum Im fan unique take sticky...  0.319792  Positive  \n",
      "7   In general I like selection freshness portion ...  0.007143  Positive  \n",
      "8   Been waiting place since forever like Ive tren...  0.111703  Positive  \n",
      "9   The food tasty quick Its really nice hate talk...  0.233333  Positive  \n",
      "10  fire fries idk water tastes yetgreat food serv...  0.000000   Neutral  \n",
      "11  Hangry moons satisfied hunger craving cold nig...  0.110349  Positive  \n",
      "12  Had buffalo fries night really enjoyed Great p...  0.333333  Positive  \n",
      "13  This place good Ive KBBQ thicc fries hangrier ...  0.406667  Positive  \n",
      "14  This place small shack outdoor seating crispy ...  0.129630  Positive  \n",
      "15  Hold 1145 fryer even single soul Also tables e... -0.071429  Negative  \n",
      "16  Ill say amount food get definitely get bang bu...  0.054167  Positive  \n",
      "17  Awesome chicken spot Westwood Fast service lot...  0.075463  Positive  \n",
      "18  love hangry moons But theres guy works Asian m...  0.075000  Positive  \n",
      "19  I got hangry combo really good The portions ex...  0.296429  Positive  \n"
     ]
    }
   ],
   "source": [
    "#removing stop words for conciseness\n",
    "\n",
    "df['text from review'] = df['text from review'].apply(lambda x: ' '.join([word for word in x if word not in (stop_words)]))\n",
    "print(df.head(20))"
   ]
  },
  {
   "cell_type": "code",
   "execution_count": 72,
   "id": "7c4055c2",
   "metadata": {},
   "outputs": [
    {
     "name": "stdout",
     "output_type": "stream",
     "text": [
      "                          id rating  \\\n",
      "0     kbwKxRdvWTu_Hy5sDN-JWQ      5   \n",
      "1     kbwKxRdvWTu_Hy5sDN-JWQ      2   \n",
      "2     kbwKxRdvWTu_Hy5sDN-JWQ      5   \n",
      "3     kbwKxRdvWTu_Hy5sDN-JWQ      3   \n",
      "4     kbwKxRdvWTu_Hy5sDN-JWQ      5   \n",
      "...                      ...    ...   \n",
      "4325  XRE8PgaxgJm5qiIqD_7eBQ      4   \n",
      "4326  XRE8PgaxgJm5qiIqD_7eBQ      5   \n",
      "4327  XRE8PgaxgJm5qiIqD_7eBQ      4   \n",
      "4328  XRE8PgaxgJm5qiIqD_7eBQ      5   \n",
      "4329  XRE8PgaxgJm5qiIqD_7eBQ      5   \n",
      "\n",
      "                                       text from review  polarity       tag  \n",
      "0     Came yesterday wife Food amazing staff friendl...  0.502778  Positive  \n",
      "1     This review I tried food last year hopefully i...  0.150877  Positive  \n",
      "2     One favorite spots food Westwood This location...  0.169494  Positive  \n",
      "3     I knew since place selforder kiosks pretty cas...  0.095644  Positive  \n",
      "4     Delicious Fast Dim Sum It easy order kiosk Its...  0.357875  Positive  \n",
      "...                                                 ...       ...       ...  \n",
      "4325  I love Kagawa Ramen wanted try place They atta...  0.492857  Positive  \n",
      "4326  What A Sweet Spot From kids brought us Kagawa ...  0.211729  Positive  \n",
      "4327  Fresh great quality We found joint Yelp though...  0.236111  Positive  \n",
      "4328  I went try I thought would fun unique I blown ...  0.255000  Positive  \n",
      "4329  Easily one best sushi spots Phoenix The staff ...  0.520833  Positive  \n",
      "\n",
      "[4330 rows x 5 columns]\n"
     ]
    }
   ],
   "source": [
    "#defining polarity: tag each review as positive, neutral, or negative\n",
    "\n",
    "def polarity_calc(text):\n",
    "    try:\n",
    "        return TextBlob(text).sentiment.polarity\n",
    "    except:\n",
    "        return None\n",
    "    \n",
    "def tag_cal(num):\n",
    "    if num < 0:\n",
    "        return 'Negative'\n",
    "    elif num > 0:\n",
    "        return 'Positive'\n",
    "    else:\n",
    "        return 'Neutral'\n",
    "        \n",
    "    \n",
    "df['polarity'] = df['text from review'].apply(polarity_calc)\n",
    "\n",
    "\n",
    "df['tag'] = df['polarity'].apply(tag_cal)\n",
    "\n",
    "\n",
    "print(df)"
   ]
  },
  {
   "cell_type": "code",
   "execution_count": 73,
   "id": "c448d711",
   "metadata": {
    "scrolled": true
   },
   "outputs": [
    {
     "data": {
      "text/plain": [
       "rating  tag     \n",
       "1       Negative    0.505263\n",
       "        Positive    0.410526\n",
       "        Neutral     0.084211\n",
       "2       Positive    0.664122\n",
       "        Negative    0.320611\n",
       "        Neutral     0.015267\n",
       "3       Positive    0.902507\n",
       "        Negative    0.091922\n",
       "        Neutral     0.005571\n",
       "4       Positive    0.969753\n",
       "        Negative    0.027498\n",
       "        Neutral     0.002750\n",
       "5       Positive    0.986059\n",
       "        Negative    0.009043\n",
       "        Neutral     0.004898\n",
       "dtype: float64"
      ]
     },
     "execution_count": 73,
     "metadata": {},
     "output_type": "execute_result"
    }
   ],
   "source": [
    "# check analysis results with original ratings\n",
    "\n",
    "df2 = df[['rating', 'tag']]\n",
    "df2.groupby('rating').value_counts(normalize = True)"
   ]
  },
  {
   "cell_type": "markdown",
   "id": "56f3ee44",
   "metadata": {},
   "source": [
    "Tag seems positively skewed -- going to change center for neutrality"
   ]
  },
  {
   "cell_type": "code",
   "execution_count": 74,
   "id": "8047c6d4",
   "metadata": {},
   "outputs": [
    {
     "name": "stdout",
     "output_type": "stream",
     "text": [
      "                          id rating  \\\n",
      "0     kbwKxRdvWTu_Hy5sDN-JWQ      5   \n",
      "1     kbwKxRdvWTu_Hy5sDN-JWQ      2   \n",
      "2     kbwKxRdvWTu_Hy5sDN-JWQ      5   \n",
      "3     kbwKxRdvWTu_Hy5sDN-JWQ      3   \n",
      "4     kbwKxRdvWTu_Hy5sDN-JWQ      5   \n",
      "...                      ...    ...   \n",
      "4325  XRE8PgaxgJm5qiIqD_7eBQ      4   \n",
      "4326  XRE8PgaxgJm5qiIqD_7eBQ      5   \n",
      "4327  XRE8PgaxgJm5qiIqD_7eBQ      4   \n",
      "4328  XRE8PgaxgJm5qiIqD_7eBQ      5   \n",
      "4329  XRE8PgaxgJm5qiIqD_7eBQ      5   \n",
      "\n",
      "                                       text from review  polarity       tag  \n",
      "0     Came yesterday wife Food amazing staff friendl...  0.502778  Positive  \n",
      "1     This review I tried food last year hopefully i...  0.150877  Negative  \n",
      "2     One favorite spots food Westwood This location...  0.169494  Negative  \n",
      "3     I knew since place selforder kiosks pretty cas...  0.095644  Negative  \n",
      "4     Delicious Fast Dim Sum It easy order kiosk Its...  0.357875  Positive  \n",
      "...                                                 ...       ...       ...  \n",
      "4325  I love Kagawa Ramen wanted try place They atta...  0.492857  Positive  \n",
      "4326  What A Sweet Spot From kids brought us Kagawa ...  0.211729  Positive  \n",
      "4327  Fresh great quality We found joint Yelp though...  0.236111  Positive  \n",
      "4328  I went try I thought would fun unique I blown ...  0.255000  Positive  \n",
      "4329  Easily one best sushi spots Phoenix The staff ...  0.520833  Positive  \n",
      "\n",
      "[4330 rows x 5 columns]\n"
     ]
    }
   ],
   "source": [
    "# redefine tagging system to reduce skewness\n",
    "\n",
    "def tag_cal_2(num):\n",
    "    if num < .2:\n",
    "        return 'Negative'\n",
    "    elif num > .2:\n",
    "        return 'Positive'\n",
    "    else:\n",
    "        return 'Neutral'\n",
    "        \n",
    "    \n",
    "df['polarity'] = df['text from review'].apply(polarity_calc)\n",
    "\n",
    "\n",
    "df['tag'] = df['polarity'].apply(tag_cal_2)\n",
    "\n",
    "\n",
    "print(df)"
   ]
  },
  {
   "cell_type": "code",
   "execution_count": 75,
   "id": "410616b2",
   "metadata": {},
   "outputs": [
    {
     "data": {
      "text/plain": [
       "rating  tag     \n",
       "1       Negative    0.926316\n",
       "        Positive    0.063158\n",
       "        Neutral     0.010526\n",
       "2       Negative    0.740458\n",
       "        Positive    0.259542\n",
       "3       Negative    0.576602\n",
       "        Positive    0.423398\n",
       "4       Positive    0.659945\n",
       "        Negative    0.340055\n",
       "5       Positive    0.810852\n",
       "        Negative    0.187265\n",
       "        Neutral     0.001884\n",
       "dtype: float64"
      ]
     },
     "execution_count": 75,
     "metadata": {},
     "output_type": "execute_result"
    }
   ],
   "source": [
    "# recheck analysis results with original ratings\n",
    "\n",
    "df2 = df[['rating', 'tag']]\n",
    "df2.groupby('rating').value_counts(normalize = True)"
   ]
  },
  {
   "cell_type": "code",
   "execution_count": 76,
   "id": "c5791267",
   "metadata": {},
   "outputs": [
    {
     "data": {
      "image/png": "[encoded data removed]",
      "text/plain": [
       "<Figure size 1000x800 with 1 Axes>"
      ]
     },
     "metadata": {},
     "output_type": "display_data"
    }
   ],
   "source": [
    "df['tag'].value_counts().plot(kind='bar')\n",
    "sns.set(font_scale=1.2)\n",
    "df['tag'].value_counts().plot(kind='bar', figsize=(10, 8), rot=1)\n",
    "plt.xlabel(\"Sentiment\", labelpad=12)\n",
    "plt.ylabel(\"Number of reviews\", labelpad=12)\n",
    "plt.title(\"Overall Sentiments counts\", y=1.05);"
   ]
  },
  {
   "cell_type": "code",
   "execution_count": 77,
   "id": "e4c4c3e2",
   "metadata": {
    "scrolled": false
   },
   "outputs": [
    {
     "data": {
      "text/plain": [
       "<Axes: >"
      ]
     },
     "execution_count": 77,
     "metadata": {},
     "output_type": "execute_result"
    },
    {
     "data": {
      "image/png": "[encoded data removed]",
      "text/plain": [
       "<Figure size 1000x800 with 1 Axes>"
      ]
     },
     "metadata": {},
     "output_type": "display_data"
    }
   ],
   "source": [
    "# look at initial distribution of ratings\n",
    "\n",
    "df['rating'].value_counts().plot(kind='bar', figsize=(10, 8), rot=1)"
   ]
  },
  {
   "cell_type": "code",
   "execution_count": 78,
   "id": "eb0072a7",
   "metadata": {},
   "outputs": [],
   "source": [
    "# save df\n",
    "\n",
    "df.to_csv('df_with_tags.csv', index = False)"
   ]
  }
 ],
 "metadata": {
  "kernelspec": {
   "display_name": "Python 3 (ipykernel)",
   "language": "python",
   "name": "python3"
  },
  "language_info": {
   "codemirror_mode": {
    "name": "ipython",
    "version": 3
   },
   "file_extension": ".py",
   "mimetype": "text/x-python",
   "name": "python",
   "nbconvert_exporter": "python",
   "pygments_lexer": "ipython3",
   "version": "3.11.4"
  }
 },
 "nbformat": 4,
 "nbformat_minor": 5
}
